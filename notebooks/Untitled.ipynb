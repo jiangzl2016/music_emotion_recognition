{
 "cells": [
  {
   "cell_type": "markdown",
   "metadata": {},
   "source": [
    "# Temporal and Rhythmic Feature Extraction\n",
    "\n",
    "Reference Paper: **Y. H. Yang and H. H. Chen, “Prediction of the distribution of\n",
    "perceived music emotions using discrete samples,” IEEE Trans.\n",
    "Audio Speech Language Process., vol. 19, no. 7, pp. 2184–2196,\n",
    "Sep. 2011.**"
   ]
  },
  {
   "cell_type": "markdown",
   "metadata": {},
   "source": [
    "# Temporal Features\n",
    "\n",
    "The six temporal features consist of the mean and standard deviation values of zero-crossing rate, temporal centroid, and log attack"
   ]
  },
  {
   "cell_type": "markdown",
   "metadata": {},
   "source": [
    "# Rhythmic Features\n",
    "\n",
    " The rhythmic class of features consist of 60-bin rhythm\n",
    "histogram and average tempo [49]"
   ]
  },
  {
   "cell_type": "code",
   "execution_count": null,
   "metadata": {},
   "outputs": [],
   "source": []
  }
 ],
 "metadata": {
  "kernelspec": {
   "display_name": "Python 3",
   "language": "python",
   "name": "python3"
  },
  "language_info": {
   "codemirror_mode": {
    "name": "ipython",
    "version": 3
   },
   "file_extension": ".py",
   "mimetype": "text/x-python",
   "name": "python",
   "nbconvert_exporter": "python",
   "pygments_lexer": "ipython3",
   "version": "3.7.5"
  }
 },
 "nbformat": 4,
 "nbformat_minor": 4
}
